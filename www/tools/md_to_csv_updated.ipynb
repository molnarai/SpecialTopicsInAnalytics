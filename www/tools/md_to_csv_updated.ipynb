{
 "cells": [
  {
   "cell_type": "code",
   "execution_count": 4,
   "id": "0cb3cba7-51ff-424b-a7f9-0242b9d70082",
   "metadata": {},
   "outputs": [],
   "source": [
    "import csv\n",
    "import re\n",
    "import os"
   ]
  },
  {
   "cell_type": "code",
   "execution_count": 5,
   "id": "323fdebd-0a5d-4bc5-87b0-db5e72cb5551",
   "metadata": {},
   "outputs": [],
   "source": [
    "import os\n",
    "import re\n",
    "import csv\n",
    "\n",
    "def create_csv():\n",
    "    # Identify current working directory\n",
    "    cwd = os.getcwd()\n",
    "    md_path = os.path.join(cwd, \"quiz4_questions.md\")\n",
    "    csv_path = os.path.join(cwd, \"quiz4_questions_converted_003.csv\")\n",
    "    \n",
    "    # Read the markdown file\n",
    "    with open(md_path, \"r\", encoding=\"utf-8\") as file:\n",
    "        lines = file.readlines()\n",
    "    \n",
    "    # Extract questions\n",
    "    questions = []\n",
    "    current_question = None\n",
    "    options = []\n",
    "    correct_answer_letter = None\n",
    "    question_number = 0\n",
    "    course_code = \"MSA8700-003\"  # Placeholder for course code\n",
    "    points = \"5\"\n",
    "    difficulty = \"1\"\n",
    "    hint = \"\"\n",
    "    feedback = \"\"\n",
    "    title = \"This is a multiple choice question\"\n",
    "    image = \"\"\n",
    "    \n",
    "    for line in lines:\n",
    "        line = line.strip()\n",
    "        if re.match(r'\\d+\\.', line):\n",
    "            if current_question and options:\n",
    "                questions.append([\"NewQuestion\", \"MC\"])\n",
    "                questions.append([\"ID\", f\"{course_code}-{question_number+1}\"])\n",
    "                questions.append([\"Title\", title])\n",
    "                questions.append([\"QuestionText\", current_question])\n",
    "                questions.append([\"Points\", points])\n",
    "                questions.append([\"Difficulty\", difficulty])\n",
    "                questions.append([\"Image\", image])\n",
    "                for option in options:\n",
    "                    is_correct = \"100\" if option.startswith(correct_answer_letter + \")\") else \"0\"\n",
    "                    option_text = option[3:].strip() if option.startswith(correct_answer_letter + \")\") else option\n",
    "                    questions.append([\"Option\", is_correct, option_text])\n",
    "                questions.append([\"Hint\", hint])\n",
    "                questions.append([\"Feedback\", feedback])\n",
    "                questions.append([\"\", \"\"])  # Blank row for separation\n",
    "                question_number += 1\n",
    "            current_question = line.split(\". \", 1)[1]\n",
    "            options = []\n",
    "            correct_answer_letter = None\n",
    "            points = \"1\"  # Default points\n",
    "            difficulty = \"1\"  # Default difficulty\n",
    "            hint = \"\"\n",
    "            feedback = \"\"\n",
    "        elif re.match(r'[a-d]\\)', line):\n",
    "            options.append(line)\n",
    "        elif line.lower().startswith(\"correct answer:\"):\n",
    "            correct_answer_match = re.search(r'correct answer:\\s*([a-d])\\)', line, re.IGNORECASE)\n",
    "            if correct_answer_match:\n",
    "                correct_answer_letter = correct_answer_match.group(1).lower()\n",
    "        elif line.lower().startswith(\"points:\"):\n",
    "            points = line.split(\"Points: \")[1]\n",
    "        elif line.lower().startswith(\"hint:\"):\n",
    "            hint = line.split(\"Hint: \")[1]\n",
    "        elif line.lower().startswith(\"feedback:\"):\n",
    "            feedback = line.split(\"Feedback: \")[1]\n",
    "    \n",
    "    if current_question and options and correct_answer_letter:\n",
    "        questions.append([\"NewQuestion\", \"MC\"])\n",
    "        questions.append([\"ID\", f\"{course_code}-{question_number+1}\"])\n",
    "        questions.append([\"Title\", title])\n",
    "        questions.append([\"QuestionText\", current_question])\n",
    "        questions.append([\"Points\", points])\n",
    "        questions.append([\"Difficulty\", difficulty])\n",
    "        questions.append([\"Image\", image])\n",
    "        for option in options:\n",
    "            is_correct = \"100\" if option.startswith(correct_answer_letter + \")\") else \"0\"\n",
    "            option_text = option[3:].strip() if option.startswith(correct_answer_letter + \")\") else option\n",
    "            questions.append([\"Option\", is_correct, option_text])\n",
    "        questions.append([\"Hint\", hint])\n",
    "        questions.append([\"Feedback\", feedback])\n",
    "        questions.append([\"\", \"\"])  # Blank row for separation\n",
    "    \n",
    "    # Write to CSV matching the exact format\n",
    "    with open(csv_path, 'w', newline='', encoding='utf-8') as file:\n",
    "        writer = csv.writer(file)\n",
    "        writer.writerows(questions)\n",
    "    \n",
    "    print(f\"CSV file successfully created at {csv_path}\")"
   ]
  },
  {
   "cell_type": "code",
   "execution_count": 6,
   "id": "84fad2a4-176d-4de4-8bb8-73d1544bb2a7",
   "metadata": {},
   "outputs": [
    {
     "name": "stdout",
     "output_type": "stream",
     "text": [
      "CSV file successfully created at /Users/mjack6/GSU_Spring2025/MSA8700/BuildingGenerativeAIBusinessSolutions/www/tools/quiz4_questions_converted_006.csv\n"
     ]
    }
   ],
   "source": [
    "if __name__ == \"__main__\":\n",
    "    create_csv()"
   ]
  },
  {
   "cell_type": "code",
   "execution_count": null,
   "id": "1c8b53bd-b29d-4d76-a459-229acc66eb99",
   "metadata": {},
   "outputs": [],
   "source": []
  }
 ],
 "metadata": {
  "kernelspec": {
   "display_name": "venv_finetuning",
   "language": "python",
   "name": "python3"
  },
  "language_info": {
   "codemirror_mode": {
    "name": "ipython",
    "version": 3
   },
   "file_extension": ".py",
   "mimetype": "text/x-python",
   "name": "python",
   "nbconvert_exporter": "python",
   "pygments_lexer": "ipython3",
   "version": "3.10.0"
  }
 },
 "nbformat": 4,
 "nbformat_minor": 5
}
